{
 "cells": [
  {
   "cell_type": "code",
   "execution_count": 1,
   "metadata": {},
   "outputs": [],
   "source": [
    "import mysql.connector\n",
    "import pandas as pd\n",
    "import seaborn as sns\n",
    "mydb = mysql.connector.connect(\n",
    "  host=\"localhost\",\n",
    "  user=\"root\",\n",
    "  passwd=\"root\",\n",
    "  port='8889',\n",
    "  database = \"TraitsQTLs_genetics\"\n",
    ")\n"
   ]
  },
  {
   "cell_type": "code",
   "execution_count": 2,
   "metadata": {},
   "outputs": [],
   "source": [
    "mycursor= mydb.cursor()"
   ]
  },
  {
   "cell_type": "code",
   "execution_count": 3,
   "metadata": {},
   "outputs": [],
   "source": [
    "mycursor.execute(\"show tables\")"
   ]
  },
  {
   "cell_type": "code",
   "execution_count": 4,
   "metadata": {},
   "outputs": [
    {
     "name": "stdout",
     "output_type": "stream",
     "text": [
      "('Datos_Generales',)\n",
      "('Mediciones',)\n"
     ]
    }
   ],
   "source": [
    "for x in mycursor:\n",
    "    print(x)"
   ]
  },
  {
   "cell_type": "code",
   "execution_count": 5,
   "metadata": {},
   "outputs": [],
   "source": [
    "sql= 'select Valor from mediciones where tipo = \"Frente\"'\n",
    "#informacion de la pigmentacion de la frente "
   ]
  },
  {
   "cell_type": "code",
   "execution_count": 6,
   "metadata": {},
   "outputs": [],
   "source": [
    "mycursor.execute(sql)"
   ]
  },
  {
   "cell_type": "code",
   "execution_count": 7,
   "metadata": {},
   "outputs": [],
   "source": [
    "pigmentacion_frente= mycursor.fetchall()"
   ]
  },
  {
   "cell_type": "code",
   "execution_count": 8,
   "metadata": {},
   "outputs": [
    {
     "data": {
      "text/plain": [
       "[(39.72,),\n",
       " (45.42,),\n",
       " (39.2,),\n",
       " (47.59,),\n",
       " (49.13,),\n",
       " (54.1,),\n",
       " (39.65,),\n",
       " (44.5,),\n",
       " (46.28,),\n",
       " (41.31,),\n",
       " (49.8,),\n",
       " (40.54,),\n",
       " (59.38,),\n",
       " (47.5,),\n",
       " (40.7,),\n",
       " (45.59,),\n",
       " (38.69,),\n",
       " (42.88,),\n",
       " (47.06,),\n",
       " (44.17,),\n",
       " (41.46,),\n",
       " (49.97,),\n",
       " (54.95,),\n",
       " (49.78,),\n",
       " (43.52,),\n",
       " (41.0,),\n",
       " (55.48,),\n",
       " (50.63,),\n",
       " (53.9,),\n",
       " (52.89,),\n",
       " (42.32,),\n",
       " (41.69,),\n",
       " (45.34,),\n",
       " (41.54,),\n",
       " (48.95,),\n",
       " (51.99,),\n",
       " (50.07,),\n",
       " (40.47,),\n",
       " (46.97,),\n",
       " (44.83,),\n",
       " (42.32,),\n",
       " (52.39,),\n",
       " (39.42,),\n",
       " (51.7,),\n",
       " (48.49,),\n",
       " (42.08,),\n",
       " (45.51,),\n",
       " (40.02,),\n",
       " (42.16,),\n",
       " (49.5,),\n",
       " (44.67,),\n",
       " (41.52,),\n",
       " (51.7,),\n",
       " (54.84,),\n",
       " (49.97,),\n",
       " (43.76,),\n",
       " (42.48,),\n",
       " (56.23,),\n",
       " (50.35,),\n",
       " (56.01,),\n",
       " (53.39,),\n",
       " (42.4,),\n",
       " (41.46,),\n",
       " (42.88,),\n",
       " (41.0,),\n",
       " (49.41,),\n",
       " (52.69,),\n",
       " (51.9,),\n",
       " (43.44,),\n",
       " (47.06,),\n",
       " (45.0,),\n",
       " (42.01,),\n",
       " (52.39,),\n",
       " (37.41,),\n",
       " (52.29,),\n",
       " (48.13,),\n",
       " (41.38,),\n",
       " (43.04,),\n",
       " (40.92,),\n",
       " (41.46,),\n",
       " (48.58,),\n",
       " (41.0,),\n",
       " (41.62,),\n",
       " (50.25,),\n",
       " (53.9,),\n",
       " (50.54,),\n",
       " (42.64,),\n",
       " (42.88,),\n",
       " (57.33,),\n",
       " (50.54,),\n",
       " (56.23,),\n",
       " (52.99,),\n",
       " (43.28,),\n",
       " (41.54,),\n",
       " (43.76,),\n",
       " (41.16,),\n",
       " (50.44,),\n",
       " (49.69,),\n",
       " (48.4,),\n",
       " (43.28,),\n",
       " (47.95,),\n",
       " (42.24,),\n",
       " (43.28,),\n",
       " (49.97,),\n",
       " (38.4,),\n",
       " (60.93,),\n",
       " (48.58,),\n",
       " (41.69,),\n",
       " (44.5,),\n",
       " (40.45,),\n",
       " (42.16,),\n",
       " (48.67,),\n",
       " (41.08,),\n",
       " (41.54,),\n",
       " (50.63,),\n",
       " (53.7,),\n",
       " (50.63,),\n",
       " (43.44,),\n",
       " (41.93,),\n",
       " (56.67,),\n",
       " (51.99,),\n",
       " (56.56,),\n",
       " (53.49,),\n",
       " (43.2,),\n",
       " (40.77,),\n",
       " (42.24,),\n",
       " (42.64,),\n",
       " (50.54,),\n",
       " (50.35,),\n",
       " (49.69,),\n",
       " (43.44,),\n",
       " (48.13,),\n",
       " (41.46,),\n",
       " (42.56,),\n",
       " (50.35,),\n",
       " (38.33,),\n",
       " (55.58,),\n",
       " (49.13,),\n",
       " (41.23,),\n",
       " (44.34,),\n",
       " (38.12,),\n",
       " (41.93,),\n",
       " (48.49,),\n",
       " (40.92,),\n",
       " (38.77,),\n",
       " (50.73,),\n",
       " (54.21,),\n",
       " (51.21,),\n",
       " (43.76,),\n",
       " (42.16,),\n",
       " (56.01,),\n",
       " (52.39,),\n",
       " (57.11,),\n",
       " (52.19,),\n",
       " (42.96,),\n",
       " (41.036,),\n",
       " (43.928,),\n",
       " (41.108,),\n",
       " (49.386,),\n",
       " (50.77,),\n",
       " (50.832,),\n",
       " (42.056,),\n",
       " (46.922,),\n",
       " (43.962,),\n",
       " (42.296,),\n",
       " (50.98,),\n",
       " (38.82,),\n",
       " (55.976,),\n",
       " (48.366,),\n",
       " (41.416,),\n",
       " (44.596,),\n",
       " (39.64,),\n",
       " (42.118,),\n",
       " (48.46,),\n",
       " (42.368,),\n",
       " (40.982,),\n",
       " (50.656,),\n",
       " (54.32,),\n",
       " (50.426,),\n",
       " (43.424,),\n",
       " (42.09,),\n",
       " (56.344,),\n",
       " (51.18,),\n",
       " (55.962,),\n",
       " (52.99,),\n",
       " (42.832,)]"
      ]
     },
     "execution_count": 8,
     "metadata": {},
     "output_type": "execute_result"
    }
   ],
   "source": [
    "pigmentacion_frente"
   ]
  },
  {
   "cell_type": "code",
   "execution_count": 9,
   "metadata": {},
   "outputs": [
    {
     "data": {
      "text/plain": [
       "<matplotlib.axes._subplots.AxesSubplot at 0x1a15880750>"
      ]
     },
     "execution_count": 9,
     "metadata": {},
     "output_type": "execute_result"
    },
    {
     "data": {
      "image/png": "[encoded data removed]",
      "text/plain": [
       "<Figure size 432x288 with 1 Axes>"
      ]
     },
     "metadata": {
      "needs_background": "light"
     },
     "output_type": "display_data"
    }
   ],
   "source": [
    "sns.distplot(pigmentacion_frente, axlabel=\"Pigmentación de la frente\")"
   ]
  },
  {
   "cell_type": "code",
   "execution_count": 10,
   "metadata": {},
   "outputs": [],
   "source": [
    "sql= 'select Valor from mediciones where tipo = \"Brazo\"'"
   ]
  },
  {
   "cell_type": "code",
   "execution_count": 11,
   "metadata": {},
   "outputs": [
    {
     "data": {
      "text/plain": [
       "<matplotlib.axes._subplots.AxesSubplot at 0x1a161fecd0>"
      ]
     },
     "execution_count": 11,
     "metadata": {},
     "output_type": "execute_result"
    },
    {
     "data": {
      "image/png": "[encoded data removed]",
      "text/plain": [
       "<Figure size 432x288 with 1 Axes>"
      ]
     },
     "metadata": {
      "needs_background": "light"
     },
     "output_type": "display_data"
    }
   ],
   "source": [
    "mycursor.execute(sql)\n",
    "pigmentacion_brazo= mycursor.fetchall()\n",
    "sns.distplot(pigmentacion_brazo, axlabel=\"Pigmentación del brazo\")"
   ]
  },
  {
   "cell_type": "code",
   "execution_count": 12,
   "metadata": {},
   "outputs": [],
   "source": [
    "sql= 'select Valor from mediciones where tipo = \"Altura\"'"
   ]
  },
  {
   "cell_type": "code",
   "execution_count": 13,
   "metadata": {},
   "outputs": [
    {
     "data": {
      "text/plain": [
       "<matplotlib.axes._subplots.AxesSubplot at 0x1a1631e490>"
      ]
     },
     "execution_count": 13,
     "metadata": {},
     "output_type": "execute_result"
    },
    {
     "data": {
      "image/png": "[encoded data removed]",
      "text/plain": [
       "<Figure size 432x288 with 1 Axes>"
      ]
     },
     "metadata": {
      "needs_background": "light"
     },
     "output_type": "display_data"
    }
   ],
   "source": [
    "mycursor.execute(sql)\n",
    "altura= mycursor.fetchall()\n",
    "sns.distplot(altura, axlabel=\"Altura\")"
   ]
  },
  {
   "cell_type": "code",
   "execution_count": 14,
   "metadata": {},
   "outputs": [
    {
     "data": {
      "text/plain": [
       "<matplotlib.axes._subplots.AxesSubplot at 0x1a16411f10>"
      ]
     },
     "execution_count": 14,
     "metadata": {},
     "output_type": "execute_result"
    },
    {
     "data": {
      "image/png": "[encoded data removed]",
      "text/plain": [
       "<Figure size 432x288 with 1 Axes>"
      ]
     },
     "metadata": {
      "needs_background": "light"
     },
     "output_type": "display_data"
    }
   ],
   "source": [
    "sql= 'select Valor from mediciones where tipo = \"Calzado\"'\n",
    "mycursor.execute(sql)\n",
    "calzado= mycursor.fetchall()\n",
    "sns.distplot(calzado, axlabel=\"Calzado\")"
   ]
  },
  {
   "cell_type": "code",
   "execution_count": 15,
   "metadata": {},
   "outputs": [],
   "source": [
    "sql= (\"select dg.nombre, m.valor from datos_generales dg, mediciones m where dg.persona_id = m.persona_id AND tipo = 'Brazo'\")"
   ]
  },
  {
   "cell_type": "code",
   "execution_count": 16,
   "metadata": {},
   "outputs": [],
   "source": [
    "mycursor.execute(sql)\n"
   ]
  },
  {
   "cell_type": "code",
   "execution_count": 17,
   "metadata": {},
   "outputs": [],
   "source": [
    "pigmentacion= mycursor.fetchall()\n",
    "pigmentacion_dict={}"
   ]
  },
  {
   "cell_type": "code",
   "execution_count": 153,
   "metadata": {},
   "outputs": [],
   "source": [
    "c= 0\n",
    "a= 0\n",
    "for i in range(5,len(pigmentacion),6):\n",
    "    for j in range(a,len(pigmentacion)):\n",
    "        c=c+1\n",
    "        if c != 7:\n",
    "            pigmentacion_dict.setdefault(pigmentacion[i][0], []).append(pigmentacion[j][1])\n",
    "        else:\n",
    "            a= a+6\n",
    "            c=0\n",
    "            break\n",
    "#con esta parte del codigo pasamos el resultado del select a un diccionario con sus correspondientes mediciones"
   ]
  },
  {
   "cell_type": "code",
   "execution_count": 151,
   "metadata": {},
   "outputs": [],
   "source": []
  },
  {
   "cell_type": "code",
   "execution_count": 154,
   "metadata": {},
   "outputs": [
    {
     "data": {
      "text/plain": [
       "{'Mónica Padilla': [33.06, 35.75, 40.09, 45.25, 42.16, 39.79],\n",
       " 'Margareta Boege': [37.06, 41.62, 37.62, 43.6, 41.85, 36.43],\n",
       " 'Ana Altamirano': [43.36, 38.55, 38.69, 39.79, 39.13, 37.97],\n",
       " 'Carlos Aguilar': [45.59, 36.29, 34.81, 42.72, 37.55, 46.45],\n",
       " 'Erick Santiago': [36.85, 37.27, 41.46, 44.83, 40.77, 41.93],\n",
       " 'Sophia Orozco': [37.13, 34.09, 35.68, 40.54, 46.02, 41.54],\n",
       " 'Brenda Pardo': [40.24, 37.41, 41.77, 36.02, 40.6, 41.54],\n",
       " 'Arturo García': [39.35, 44.67, 39.2, 38.55, 39.79, 39.2],\n",
       " 'Isaac Garnica': [38.98, 45.51, 35.61, 35.34, 43.2, 37.62],\n",
       " 'Ariel Pulido': [47.86, 37.76, 37.2, 41.85, 47.59, 39.87],\n",
       " 'Arlet Lara': [40.17, 37.34, 35.08, 35.75, 40.17, 45.09],\n",
       " 'Luis Felipe Cedeño': [42.08, 40.32, 36.43, 41.93, 37.76, 40.85],\n",
       " 'Valeria Añorve': [41.08, 37.83, 43.84, 39.2, 38.84, 41.38],\n",
       " 'Tania Sepúlveda': [38.77, 38.26, 45.17, 35.61, 35.28, 44.17],\n",
       " 'Víctor Flores': [36.64, 48.86, 38.04, 38.55, 41.77, 48.31],\n",
       " 'Luis Fernández': [39.35, 41.15, 36.92, 34.94, 36.02, 39.42],\n",
       " 'Natalia Rivera': [45.09, 41.69, 40.7, 37.2, 42.48, 38.4],\n",
       " 'Leo Arteaga': [41.0, 40.7, 34.94, 44.01, 38.77, 38.91],\n",
       " 'Christian Fernández': [41.38, 38.77, 38.48, 45.59, 35.61, 35.14],\n",
       " 'Diego Aguilera': [43.52, 37.06, 48.67, 38.04, 37.83, 42.16],\n",
       " 'Brenda Vázquez': [48.67, 40.62, 40.92, 37.34, 34.88, 35.14],\n",
       " 'Zoe Franco': [40.24, 45.51, 41.23, 40.47, 37.27, 42.56],\n",
       " 'César Aspiros': [36.71, 41.08, 41.08, 34.55, 44.25, 38.55],\n",
       " 'Lucía Morales': [38.26, 41.38, 39.13, 38.33, 44.83, 36.09],\n",
       " 'Sebastián García': [35.08, 43.76, 36.92, 50.07, 37.41, 38.84],\n",
       " 'Emilio Calderón': [41.93, 46.02, 40.17, 39.5, 35.95, 34.41],\n",
       " 'Luisa Sarai Sevila Nicolas': [35.668, 40.092, 45.392, 41.74, 40.304, 37.074],\n",
       " 'Jair Garcia': [42.072, 37.302, 41.426, 41.25, 36.62, 44.026],\n",
       " 'Jorge Luis Cuamatzi': [38.854, 38.65, 40.744, 39.0, 38.404, 45.338],\n",
       " 'Iván Sedeño ': [35.842, 35.13, 43.474, 37.158, 48.382, 37.62],\n",
       " 'Goche Ortega': [37.938, 41.834, 47.084, 40.156, 40.734, 36.936]}"
      ]
     },
     "execution_count": 154,
     "metadata": {},
     "output_type": "execute_result"
    }
   ],
   "source": [
    "pigmentacion_dict"
   ]
  },
  {
   "cell_type": "code",
   "execution_count": 155,
   "metadata": {},
   "outputs": [
    {
     "data": {
      "text/html": [
       "<div>\n",
       "<style scoped>\n",
       "    .dataframe tbody tr th:only-of-type {\n",
       "        vertical-align: middle;\n",
       "    }\n",
       "\n",
       "    .dataframe tbody tr th {\n",
       "        vertical-align: top;\n",
       "    }\n",
       "\n",
       "    .dataframe thead th {\n",
       "        text-align: right;\n",
       "    }\n",
       "</style>\n",
       "<table border=\"1\" class=\"dataframe\">\n",
       "  <thead>\n",
       "    <tr style=\"text-align: right;\">\n",
       "      <th></th>\n",
       "      <th>Mónica Padilla</th>\n",
       "      <th>Margareta Boege</th>\n",
       "      <th>Ana Altamirano</th>\n",
       "      <th>Carlos Aguilar</th>\n",
       "      <th>Erick Santiago</th>\n",
       "      <th>Sophia Orozco</th>\n",
       "      <th>Brenda Pardo</th>\n",
       "      <th>Arturo García</th>\n",
       "      <th>Isaac Garnica</th>\n",
       "      <th>Ariel Pulido</th>\n",
       "      <th>...</th>\n",
       "      <th>Zoe Franco</th>\n",
       "      <th>César Aspiros</th>\n",
       "      <th>Lucía Morales</th>\n",
       "      <th>Sebastián García</th>\n",
       "      <th>Emilio Calderón</th>\n",
       "      <th>Luisa Sarai Sevila Nicolas</th>\n",
       "      <th>Jair Garcia</th>\n",
       "      <th>Jorge Luis Cuamatzi</th>\n",
       "      <th>Iván Sedeño</th>\n",
       "      <th>Goche Ortega</th>\n",
       "    </tr>\n",
       "  </thead>\n",
       "  <tbody>\n",
       "    <tr>\n",
       "      <td>0</td>\n",
       "      <td>33.06</td>\n",
       "      <td>37.06</td>\n",
       "      <td>43.36</td>\n",
       "      <td>45.59</td>\n",
       "      <td>36.85</td>\n",
       "      <td>37.13</td>\n",
       "      <td>40.24</td>\n",
       "      <td>39.35</td>\n",
       "      <td>38.98</td>\n",
       "      <td>47.86</td>\n",
       "      <td>...</td>\n",
       "      <td>40.24</td>\n",
       "      <td>36.71</td>\n",
       "      <td>38.26</td>\n",
       "      <td>35.08</td>\n",
       "      <td>41.93</td>\n",
       "      <td>35.668</td>\n",
       "      <td>42.072</td>\n",
       "      <td>38.854</td>\n",
       "      <td>35.842</td>\n",
       "      <td>37.938</td>\n",
       "    </tr>\n",
       "    <tr>\n",
       "      <td>1</td>\n",
       "      <td>35.75</td>\n",
       "      <td>41.62</td>\n",
       "      <td>38.55</td>\n",
       "      <td>36.29</td>\n",
       "      <td>37.27</td>\n",
       "      <td>34.09</td>\n",
       "      <td>37.41</td>\n",
       "      <td>44.67</td>\n",
       "      <td>45.51</td>\n",
       "      <td>37.76</td>\n",
       "      <td>...</td>\n",
       "      <td>45.51</td>\n",
       "      <td>41.08</td>\n",
       "      <td>41.38</td>\n",
       "      <td>43.76</td>\n",
       "      <td>46.02</td>\n",
       "      <td>40.092</td>\n",
       "      <td>37.302</td>\n",
       "      <td>38.650</td>\n",
       "      <td>35.130</td>\n",
       "      <td>41.834</td>\n",
       "    </tr>\n",
       "    <tr>\n",
       "      <td>2</td>\n",
       "      <td>40.09</td>\n",
       "      <td>37.62</td>\n",
       "      <td>38.69</td>\n",
       "      <td>34.81</td>\n",
       "      <td>41.46</td>\n",
       "      <td>35.68</td>\n",
       "      <td>41.77</td>\n",
       "      <td>39.20</td>\n",
       "      <td>35.61</td>\n",
       "      <td>37.20</td>\n",
       "      <td>...</td>\n",
       "      <td>41.23</td>\n",
       "      <td>41.08</td>\n",
       "      <td>39.13</td>\n",
       "      <td>36.92</td>\n",
       "      <td>40.17</td>\n",
       "      <td>45.392</td>\n",
       "      <td>41.426</td>\n",
       "      <td>40.744</td>\n",
       "      <td>43.474</td>\n",
       "      <td>47.084</td>\n",
       "    </tr>\n",
       "    <tr>\n",
       "      <td>3</td>\n",
       "      <td>45.25</td>\n",
       "      <td>43.60</td>\n",
       "      <td>39.79</td>\n",
       "      <td>42.72</td>\n",
       "      <td>44.83</td>\n",
       "      <td>40.54</td>\n",
       "      <td>36.02</td>\n",
       "      <td>38.55</td>\n",
       "      <td>35.34</td>\n",
       "      <td>41.85</td>\n",
       "      <td>...</td>\n",
       "      <td>40.47</td>\n",
       "      <td>34.55</td>\n",
       "      <td>38.33</td>\n",
       "      <td>50.07</td>\n",
       "      <td>39.50</td>\n",
       "      <td>41.740</td>\n",
       "      <td>41.250</td>\n",
       "      <td>39.000</td>\n",
       "      <td>37.158</td>\n",
       "      <td>40.156</td>\n",
       "    </tr>\n",
       "    <tr>\n",
       "      <td>4</td>\n",
       "      <td>42.16</td>\n",
       "      <td>41.85</td>\n",
       "      <td>39.13</td>\n",
       "      <td>37.55</td>\n",
       "      <td>40.77</td>\n",
       "      <td>46.02</td>\n",
       "      <td>40.60</td>\n",
       "      <td>39.79</td>\n",
       "      <td>43.20</td>\n",
       "      <td>47.59</td>\n",
       "      <td>...</td>\n",
       "      <td>37.27</td>\n",
       "      <td>44.25</td>\n",
       "      <td>44.83</td>\n",
       "      <td>37.41</td>\n",
       "      <td>35.95</td>\n",
       "      <td>40.304</td>\n",
       "      <td>36.620</td>\n",
       "      <td>38.404</td>\n",
       "      <td>48.382</td>\n",
       "      <td>40.734</td>\n",
       "    </tr>\n",
       "    <tr>\n",
       "      <td>5</td>\n",
       "      <td>39.79</td>\n",
       "      <td>36.43</td>\n",
       "      <td>37.97</td>\n",
       "      <td>46.45</td>\n",
       "      <td>41.93</td>\n",
       "      <td>41.54</td>\n",
       "      <td>41.54</td>\n",
       "      <td>39.20</td>\n",
       "      <td>37.62</td>\n",
       "      <td>39.87</td>\n",
       "      <td>...</td>\n",
       "      <td>42.56</td>\n",
       "      <td>38.55</td>\n",
       "      <td>36.09</td>\n",
       "      <td>38.84</td>\n",
       "      <td>34.41</td>\n",
       "      <td>37.074</td>\n",
       "      <td>44.026</td>\n",
       "      <td>45.338</td>\n",
       "      <td>37.620</td>\n",
       "      <td>36.936</td>\n",
       "    </tr>\n",
       "  </tbody>\n",
       "</table>\n",
       "<p>6 rows × 31 columns</p>\n",
       "</div>"
      ],
      "text/plain": [
       "   Mónica Padilla  Margareta Boege  Ana Altamirano  Carlos Aguilar  \\\n",
       "0           33.06            37.06           43.36           45.59   \n",
       "1           35.75            41.62           38.55           36.29   \n",
       "2           40.09            37.62           38.69           34.81   \n",
       "3           45.25            43.60           39.79           42.72   \n",
       "4           42.16            41.85           39.13           37.55   \n",
       "5           39.79            36.43           37.97           46.45   \n",
       "\n",
       "   Erick Santiago  Sophia Orozco  Brenda Pardo  Arturo García  Isaac Garnica  \\\n",
       "0           36.85          37.13         40.24          39.35          38.98   \n",
       "1           37.27          34.09         37.41          44.67          45.51   \n",
       "2           41.46          35.68         41.77          39.20          35.61   \n",
       "3           44.83          40.54         36.02          38.55          35.34   \n",
       "4           40.77          46.02         40.60          39.79          43.20   \n",
       "5           41.93          41.54         41.54          39.20          37.62   \n",
       "\n",
       "   Ariel Pulido  ...  Zoe Franco  César Aspiros  Lucía Morales  \\\n",
       "0         47.86  ...       40.24          36.71          38.26   \n",
       "1         37.76  ...       45.51          41.08          41.38   \n",
       "2         37.20  ...       41.23          41.08          39.13   \n",
       "3         41.85  ...       40.47          34.55          38.33   \n",
       "4         47.59  ...       37.27          44.25          44.83   \n",
       "5         39.87  ...       42.56          38.55          36.09   \n",
       "\n",
       "   Sebastián García  Emilio Calderón  Luisa Sarai Sevila Nicolas  Jair Garcia  \\\n",
       "0             35.08            41.93                      35.668       42.072   \n",
       "1             43.76            46.02                      40.092       37.302   \n",
       "2             36.92            40.17                      45.392       41.426   \n",
       "3             50.07            39.50                      41.740       41.250   \n",
       "4             37.41            35.95                      40.304       36.620   \n",
       "5             38.84            34.41                      37.074       44.026   \n",
       "\n",
       "   Jorge Luis Cuamatzi  Iván Sedeño   Goche Ortega  \n",
       "0               38.854        35.842        37.938  \n",
       "1               38.650        35.130        41.834  \n",
       "2               40.744        43.474        47.084  \n",
       "3               39.000        37.158        40.156  \n",
       "4               38.404        48.382        40.734  \n",
       "5               45.338        37.620        36.936  \n",
       "\n",
       "[6 rows x 31 columns]"
      ]
     },
     "execution_count": 155,
     "metadata": {},
     "output_type": "execute_result"
    }
   ],
   "source": [
    "pig_dataframe= pd.DataFrame(pigmentacion_dict)\n",
    "pig_dataframe"
   ]
  },
  {
   "cell_type": "code",
   "execution_count": 160,
   "metadata": {},
   "outputs": [
    {
     "data": {
      "text/plain": [
       "[Text(0, 0.5, 'Valor de pigmentacion (valores de brazo)'),\n",
       " Text(0.5, 0, 'Nombre de la persona')]"
      ]
     },
     "execution_count": 160,
     "metadata": {},
     "output_type": "execute_result"
    },
    {
     "data": {
      "image/png": "[encoded data removed]",
      "text/plain": [
       "<Figure size 432x288 with 1 Axes>"
      ]
     },
     "metadata": {
      "needs_background": "light"
     },
     "output_type": "display_data"
    }
   ],
   "source": [
    "sns.boxplot(data= pig_dataframe).set(xlabel='Nombre de la persona', ylabel='Valor de pigmentacion (valores de brazo)')"
   ]
  },
  {
   "cell_type": "code",
   "execution_count": 161,
   "metadata": {},
   "outputs": [],
   "source": [
    "sql= (\"select dg.nombre, m.valor from datos_generales dg, mediciones m where dg.persona_id = m.persona_id AND tipo = 'Frente'\")"
   ]
  },
  {
   "cell_type": "code",
   "execution_count": 163,
   "metadata": {},
   "outputs": [],
   "source": [
    "mycursor.execute(sql)\n",
    "frente= mycursor.fetchall()\n",
    "frente_dict={}"
   ]
  },
  {
   "cell_type": "code",
   "execution_count": 165,
   "metadata": {},
   "outputs": [],
   "source": [
    "c= 0\n",
    "a= 0\n",
    "for i in range(5,len(frente),6):\n",
    "    for j in range(a,len(frente)):\n",
    "        c=c+1\n",
    "        if c != 7:\n",
    "            frente_dict.setdefault(frente[i][0], []).append(frente[j][1])\n",
    "        else:\n",
    "            a= a+6\n",
    "            c=0\n",
    "            break"
   ]
  },
  {
   "cell_type": "code",
   "execution_count": 166,
   "metadata": {},
   "outputs": [
    {
     "data": {
      "text/html": [
       "<div>\n",
       "<style scoped>\n",
       "    .dataframe tbody tr th:only-of-type {\n",
       "        vertical-align: middle;\n",
       "    }\n",
       "\n",
       "    .dataframe tbody tr th {\n",
       "        vertical-align: top;\n",
       "    }\n",
       "\n",
       "    .dataframe thead th {\n",
       "        text-align: right;\n",
       "    }\n",
       "</style>\n",
       "<table border=\"1\" class=\"dataframe\">\n",
       "  <thead>\n",
       "    <tr style=\"text-align: right;\">\n",
       "      <th></th>\n",
       "      <th>Mónica Padilla</th>\n",
       "      <th>Margareta Boege</th>\n",
       "      <th>Ana Altamirano</th>\n",
       "      <th>Carlos Aguilar</th>\n",
       "      <th>Erick Santiago</th>\n",
       "      <th>Sophia Orozco</th>\n",
       "      <th>Brenda Pardo</th>\n",
       "      <th>Arturo García</th>\n",
       "      <th>Isaac Garnica</th>\n",
       "      <th>Ariel Pulido</th>\n",
       "      <th>...</th>\n",
       "      <th>Zoe Franco</th>\n",
       "      <th>César Aspiros</th>\n",
       "      <th>Lucía Morales</th>\n",
       "      <th>Sebastián García</th>\n",
       "      <th>Emilio Calderón</th>\n",
       "      <th>Luisa Sarai Sevila Nicolas</th>\n",
       "      <th>Jair Garcia</th>\n",
       "      <th>Jorge Luis Cuamatzi</th>\n",
       "      <th>Iván Sedeño</th>\n",
       "      <th>Goche Ortega</th>\n",
       "    </tr>\n",
       "  </thead>\n",
       "  <tbody>\n",
       "    <tr>\n",
       "      <td>0</td>\n",
       "      <td>39.72</td>\n",
       "      <td>39.65</td>\n",
       "      <td>59.38</td>\n",
       "      <td>47.06</td>\n",
       "      <td>43.52</td>\n",
       "      <td>42.32</td>\n",
       "      <td>50.07</td>\n",
       "      <td>39.42</td>\n",
       "      <td>42.16</td>\n",
       "      <td>49.97</td>\n",
       "      <td>...</td>\n",
       "      <td>42.64</td>\n",
       "      <td>41.46</td>\n",
       "      <td>41.23</td>\n",
       "      <td>38.77</td>\n",
       "      <td>56.010</td>\n",
       "      <td>43.928</td>\n",
       "      <td>46.922</td>\n",
       "      <td>48.366</td>\n",
       "      <td>42.368</td>\n",
       "      <td>42.090</td>\n",
       "    </tr>\n",
       "    <tr>\n",
       "      <td>1</td>\n",
       "      <td>45.42</td>\n",
       "      <td>44.50</td>\n",
       "      <td>47.50</td>\n",
       "      <td>44.17</td>\n",
       "      <td>41.00</td>\n",
       "      <td>41.69</td>\n",
       "      <td>40.47</td>\n",
       "      <td>51.70</td>\n",
       "      <td>49.50</td>\n",
       "      <td>43.76</td>\n",
       "      <td>...</td>\n",
       "      <td>50.54</td>\n",
       "      <td>42.56</td>\n",
       "      <td>44.34</td>\n",
       "      <td>50.73</td>\n",
       "      <td>52.390</td>\n",
       "      <td>41.108</td>\n",
       "      <td>43.962</td>\n",
       "      <td>41.416</td>\n",
       "      <td>40.982</td>\n",
       "      <td>56.344</td>\n",
       "    </tr>\n",
       "    <tr>\n",
       "      <td>2</td>\n",
       "      <td>39.20</td>\n",
       "      <td>46.28</td>\n",
       "      <td>40.70</td>\n",
       "      <td>41.46</td>\n",
       "      <td>55.48</td>\n",
       "      <td>45.34</td>\n",
       "      <td>46.97</td>\n",
       "      <td>48.49</td>\n",
       "      <td>44.67</td>\n",
       "      <td>42.48</td>\n",
       "      <td>...</td>\n",
       "      <td>50.35</td>\n",
       "      <td>50.35</td>\n",
       "      <td>38.12</td>\n",
       "      <td>54.21</td>\n",
       "      <td>57.110</td>\n",
       "      <td>49.386</td>\n",
       "      <td>42.296</td>\n",
       "      <td>44.596</td>\n",
       "      <td>50.656</td>\n",
       "      <td>51.180</td>\n",
       "    </tr>\n",
       "    <tr>\n",
       "      <td>3</td>\n",
       "      <td>47.59</td>\n",
       "      <td>41.31</td>\n",
       "      <td>45.59</td>\n",
       "      <td>49.97</td>\n",
       "      <td>50.63</td>\n",
       "      <td>41.54</td>\n",
       "      <td>44.83</td>\n",
       "      <td>42.08</td>\n",
       "      <td>41.52</td>\n",
       "      <td>56.23</td>\n",
       "      <td>...</td>\n",
       "      <td>49.69</td>\n",
       "      <td>38.33</td>\n",
       "      <td>41.93</td>\n",
       "      <td>51.21</td>\n",
       "      <td>52.190</td>\n",
       "      <td>50.770</td>\n",
       "      <td>50.980</td>\n",
       "      <td>39.640</td>\n",
       "      <td>54.320</td>\n",
       "      <td>55.962</td>\n",
       "    </tr>\n",
       "    <tr>\n",
       "      <td>4</td>\n",
       "      <td>49.13</td>\n",
       "      <td>49.80</td>\n",
       "      <td>38.69</td>\n",
       "      <td>54.95</td>\n",
       "      <td>53.90</td>\n",
       "      <td>48.95</td>\n",
       "      <td>42.32</td>\n",
       "      <td>45.51</td>\n",
       "      <td>51.70</td>\n",
       "      <td>50.35</td>\n",
       "      <td>...</td>\n",
       "      <td>43.44</td>\n",
       "      <td>55.58</td>\n",
       "      <td>48.49</td>\n",
       "      <td>43.76</td>\n",
       "      <td>42.960</td>\n",
       "      <td>50.832</td>\n",
       "      <td>38.820</td>\n",
       "      <td>42.118</td>\n",
       "      <td>50.426</td>\n",
       "      <td>52.990</td>\n",
       "    </tr>\n",
       "    <tr>\n",
       "      <td>5</td>\n",
       "      <td>54.10</td>\n",
       "      <td>40.54</td>\n",
       "      <td>42.88</td>\n",
       "      <td>49.78</td>\n",
       "      <td>52.89</td>\n",
       "      <td>51.99</td>\n",
       "      <td>52.39</td>\n",
       "      <td>40.02</td>\n",
       "      <td>54.84</td>\n",
       "      <td>56.01</td>\n",
       "      <td>...</td>\n",
       "      <td>48.13</td>\n",
       "      <td>49.13</td>\n",
       "      <td>40.92</td>\n",
       "      <td>42.16</td>\n",
       "      <td>41.036</td>\n",
       "      <td>42.056</td>\n",
       "      <td>55.976</td>\n",
       "      <td>48.460</td>\n",
       "      <td>43.424</td>\n",
       "      <td>42.832</td>\n",
       "    </tr>\n",
       "  </tbody>\n",
       "</table>\n",
       "<p>6 rows × 31 columns</p>\n",
       "</div>"
      ],
      "text/plain": [
       "   Mónica Padilla  Margareta Boege  Ana Altamirano  Carlos Aguilar  \\\n",
       "0           39.72            39.65           59.38           47.06   \n",
       "1           45.42            44.50           47.50           44.17   \n",
       "2           39.20            46.28           40.70           41.46   \n",
       "3           47.59            41.31           45.59           49.97   \n",
       "4           49.13            49.80           38.69           54.95   \n",
       "5           54.10            40.54           42.88           49.78   \n",
       "\n",
       "   Erick Santiago  Sophia Orozco  Brenda Pardo  Arturo García  Isaac Garnica  \\\n",
       "0           43.52          42.32         50.07          39.42          42.16   \n",
       "1           41.00          41.69         40.47          51.70          49.50   \n",
       "2           55.48          45.34         46.97          48.49          44.67   \n",
       "3           50.63          41.54         44.83          42.08          41.52   \n",
       "4           53.90          48.95         42.32          45.51          51.70   \n",
       "5           52.89          51.99         52.39          40.02          54.84   \n",
       "\n",
       "   Ariel Pulido  ...  Zoe Franco  César Aspiros  Lucía Morales  \\\n",
       "0         49.97  ...       42.64          41.46          41.23   \n",
       "1         43.76  ...       50.54          42.56          44.34   \n",
       "2         42.48  ...       50.35          50.35          38.12   \n",
       "3         56.23  ...       49.69          38.33          41.93   \n",
       "4         50.35  ...       43.44          55.58          48.49   \n",
       "5         56.01  ...       48.13          49.13          40.92   \n",
       "\n",
       "   Sebastián García  Emilio Calderón  Luisa Sarai Sevila Nicolas  Jair Garcia  \\\n",
       "0             38.77           56.010                      43.928       46.922   \n",
       "1             50.73           52.390                      41.108       43.962   \n",
       "2             54.21           57.110                      49.386       42.296   \n",
       "3             51.21           52.190                      50.770       50.980   \n",
       "4             43.76           42.960                      50.832       38.820   \n",
       "5             42.16           41.036                      42.056       55.976   \n",
       "\n",
       "   Jorge Luis Cuamatzi  Iván Sedeño   Goche Ortega  \n",
       "0               48.366        42.368        42.090  \n",
       "1               41.416        40.982        56.344  \n",
       "2               44.596        50.656        51.180  \n",
       "3               39.640        54.320        55.962  \n",
       "4               42.118        50.426        52.990  \n",
       "5               48.460        43.424        42.832  \n",
       "\n",
       "[6 rows x 31 columns]"
      ]
     },
     "execution_count": 166,
     "metadata": {},
     "output_type": "execute_result"
    }
   ],
   "source": [
    "frente_dataframe= pd.DataFrame(frente_dict)\n",
    "frente_dataframe"
   ]
  },
  {
   "cell_type": "code",
   "execution_count": 168,
   "metadata": {},
   "outputs": [
    {
     "data": {
      "text/plain": [
       "[Text(0, 0.5, 'Valor de pigmentacion (valores de frente)'),\n",
       " Text(0.5, 0, 'Nombre de la persona')]"
      ]
     },
     "execution_count": 168,
     "metadata": {},
     "output_type": "execute_result"
    },
    {
     "data": {
      "image/png": "[encoded data removed]",
      "text/plain": [
       "<Figure size 432x288 with 1 Axes>"
      ]
     },
     "metadata": {
      "needs_background": "light"
     },
     "output_type": "display_data"
    }
   ],
   "source": [
    "sns.boxplot(data= pig_dataframe).set(xlabel='Nombre de la persona', ylabel='Valor de pigmentacion (valores de frente)')"
   ]
  },
  {
   "cell_type": "code",
   "execution_count": 170,
   "metadata": {},
   "outputs": [
    {
     "data": {
      "image/png": "[encoded data removed]",
      "text/plain": [
       "<Figure size 432x288 with 1 Axes>"
      ]
     },
     "metadata": {
      "needs_background": "light"
     },
     "output_type": "display_data"
    }
   ],
   "source": [
    "ax= sns.boxplot(data= pig_dataframe).set(xlabel='Nombre de la persona', ylabel='Valor de pigmentacion (valores de frente)')\n",
    "ax= sns.swarmplot(data= pig_dataframe)\n",
    "#con los puntos sobre las cajas, pero en realidad no importa mucho "
   ]
  },
  {
   "cell_type": "code",
   "execution_count": null,
   "metadata": {},
   "outputs": [],
   "source": []
  }
 ],
 "metadata": {
  "kernelspec": {
   "display_name": "Python 3",
   "language": "python",
   "name": "python3"
  },
  "language_info": {
   "codemirror_mode": {
    "name": "ipython",
    "version": 3
   },
   "file_extension": ".py",
   "mimetype": "text/x-python",
   "name": "python",
   "nbconvert_exporter": "python",
   "pygments_lexer": "ipython3",
   "version": "3.7.4"
  }
 },
 "nbformat": 4,
 "nbformat_minor": 2
}
